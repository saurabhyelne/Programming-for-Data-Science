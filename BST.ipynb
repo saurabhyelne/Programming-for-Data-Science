{
 "cells": [
  {
   "cell_type": "markdown",
   "metadata": {},
   "source": [
    "# Binary Search Tree Implemantation"
   ]
  },
  {
   "cell_type": "code",
   "execution_count": 1,
   "metadata": {
    "collapsed": true
   },
   "outputs": [],
   "source": [
    "from ipynb.fs.defs.Tree_Node import TreeNode"
   ]
  },
  {
   "cell_type": "code",
   "execution_count": 7,
   "metadata": {
    "collapsed": true
   },
   "outputs": [],
   "source": [
    "class MyTree():\n",
    "    def __init__(self):\n",
    "        self.__root = None\n",
    "\n",
    "\n",
    "    def append(self, data):\n",
    "        newnode=TreeNode(data,None,None)\n",
    "        if self.__root is None:\n",
    "            self.__root = newnode\n",
    "        else:\n",
    "            self.__helpappend(self.__root,newnode)\n",
    "\n",
    "    def __helpappend(self,node,newnode):\n",
    "        if newnode.getData() < node.getData():\n",
    "            if (node.getLeftChild() is None):\n",
    "                node.setLeftChild(newnode)\n",
    "            else:\n",
    "                 self.__helpappend(node.getLeftChild(), newnode)\n",
    "        else:\n",
    "            if (node.getRightChild() is None):\n",
    "                node.setRightChild(newnode)\n",
    "            else:\n",
    "                self.__helpappend(node.getRightChild(), newnode)\n",
    "\n",
    "    def find (self, data):  # returns true if the data exists in the tree, false otherwise. Runs in O( log(n) ) time.\n",
    "        return self.__findhelp(self.__root, data)\n",
    "\n",
    "    def __findhelp (self,currentnode,data):\n",
    "        if currentnode is None:\n",
    "            return False\n",
    "\n",
    "        if data == currentnode.getData():\n",
    "            return True\n",
    "        else:\n",
    "\n",
    "            if data < currentnode.getData():\n",
    "                return self.__findhelp( currentnode.getLeftChild(),data)\n",
    "            else:\n",
    "                return self.__findhelp (currentnode.getRightChild(), data)\n",
    "\n",
    "    def __getNextLevel(self, currentLevel):\n",
    "        nextLevel = [];\n",
    "\n",
    "        for node in currentLevel:\n",
    "            if node is None:\n",
    "                nextLevel.append(None);\n",
    "                nextLevel.append(None);\n",
    "            else:\n",
    "                nextLevel.append(node.getLeftChild());\n",
    "                nextLevel.append(node.getRightChild());\n",
    "\n",
    "        return nextLevel\n",
    "\n",
    "    def __allNodesNone(self, level):\n",
    "\n",
    "        for node in level:\n",
    "            if node is not None:\n",
    "                return True;\n",
    "\n",
    "        return False;\n",
    "\n",
    "    def __getAllLevels(self):\n",
    "        allLevels = []\n",
    "        currentLevel = [self.__root]\n",
    "\n",
    "        while (self.__allNodesNone(currentLevel)):\n",
    "            allLevels.append(currentLevel)\n",
    "            currentLevel = self.__getNextLevel(currentLevel)\n",
    "\n",
    "        return allLevels\n",
    "\n",
    "    def __getStringNode(self, node):\n",
    "        if node is None:\n",
    "            return \"     \"\n",
    "        else:\n",
    "            if (node.getData() < 10):\n",
    "                return \"  \" + str(node.getData()) + \"  \"\n",
    "            else:\n",
    "                return \"  \" + str(node.getData()) + \" \"\n",
    "\n",
    "    def __getStringLevel(self, level):\n",
    "        levelString = \"\"\n",
    "        for node in level:\n",
    "            levelString = levelString + self.__getStringNode(node)\n",
    "\n",
    "        return levelString\n",
    "\n",
    "    def __getALLLevelsString(self, allLevels):\n",
    "        totalOutput = \"\"\n",
    "        for level in allLevels:\n",
    "            totalOutput = totalOutput + self.__getStringLevel(level) + \"\\n\"\n",
    "\n",
    "        return totalOutput\n",
    "\n",
    "    def prettyPrint(self):\n",
    "        allLevels = self.__getAllLevels()\n",
    "        updatedLevels = []\n",
    "        powerOf2 = 1\n",
    "        for level in reversed(allLevels):\n",
    "            updatedLevel = []\n",
    "            for node in level:\n",
    "                counterBefore = powerOf2 - 1\n",
    "                counterAfter = powerOf2\n",
    "\n",
    "                while (counterBefore > 0):\n",
    "                    updatedLevel.append(None);\n",
    "                    counterBefore = counterBefore - 1\n",
    "\n",
    "                updatedLevel.append(node)\n",
    "\n",
    "                while (counterAfter > 0):\n",
    "                    updatedLevel.append(None)\n",
    "                    counterAfter = counterAfter - 1\n",
    "\n",
    "            powerOf2 = powerOf2 * 2;\n",
    "            updatedLevels.append(updatedLevel)\n",
    "\n",
    "        updatedLevels = reversed(updatedLevels)\n",
    "        updatedLevelStrings = self.__getALLLevelsString(updatedLevels)\n",
    "\n",
    "        print(updatedLevelStrings)"
   ]
  },
  {
   "cell_type": "markdown",
   "metadata": {},
   "source": [
    "## Creating a binary search tree"
   ]
  },
  {
   "cell_type": "code",
   "execution_count": 8,
   "metadata": {
    "collapsed": true
   },
   "outputs": [],
   "source": [
    "tree=MyTree() "
   ]
  },
  {
   "cell_type": "markdown",
   "metadata": {},
   "source": [
    "## Adding data to the tree "
   ]
  },
  {
   "cell_type": "code",
   "execution_count": 9,
   "metadata": {
    "collapsed": true
   },
   "outputs": [],
   "source": [
    "tree.append(19)\n",
    "tree.append(7)\n",
    "tree.append(3)\n",
    "tree.append(66)\n",
    "tree.append(45)"
   ]
  },
  {
   "cell_type": "markdown",
   "metadata": {},
   "source": [
    "## Using Pretty Print function"
   ]
  },
  {
   "cell_type": "code",
   "execution_count": 10,
   "metadata": {
    "scrolled": true
   },
   "outputs": [
    {
     "name": "stdout",
     "output_type": "stream",
     "text": [
      "                 19                     \n",
      "       7                   66           \n",
      "  3                   45                \n",
      "\n"
     ]
    }
   ],
   "source": [
    "tree.prettyPrint()"
   ]
  },
  {
   "cell_type": "code",
   "execution_count": null,
   "metadata": {},
   "outputs": [],
   "source": []
  },
  {
   "cell_type": "markdown",
   "metadata": {},
   "source": [
    "## Finding the value in the tree using Find method"
   ]
  },
  {
   "cell_type": "code",
   "execution_count": 6,
   "metadata": {},
   "outputs": [
    {
     "name": "stdout",
     "output_type": "stream",
     "text": [
      "True\n"
     ]
    }
   ],
   "source": [
    "print(tree.find(19))"
   ]
  },
  {
   "cell_type": "code",
   "execution_count": null,
   "metadata": {
    "collapsed": true
   },
   "outputs": [],
   "source": []
  }
 ],
 "metadata": {
  "kernelspec": {
   "display_name": "Python 3",
   "language": "python",
   "name": "python3"
  },
  "language_info": {
   "codemirror_mode": {
    "name": "ipython",
    "version": 3
   },
   "file_extension": ".py",
   "mimetype": "text/x-python",
   "name": "python",
   "nbconvert_exporter": "python",
   "pygments_lexer": "ipython3",
   "version": "3.5.4"
  }
 },
 "nbformat": 4,
 "nbformat_minor": 2
}
