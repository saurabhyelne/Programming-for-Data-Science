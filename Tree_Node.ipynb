{
 "cells": [
  {
   "cell_type": "markdown",
   "metadata": {},
   "source": [
    "# Implementing Tree Node Class"
   ]
  },
  {
   "cell_type": "code",
   "execution_count": 21,
   "metadata": {
    "collapsed": true
   },
   "outputs": [],
   "source": [
    "class TreeNode():\n",
    "    __data = None;\n",
    "    __right = None;\n",
    "    __left = None;\n",
    "\n",
    "    def __init__(self, data, left, right):\n",
    "        self.__data = data;\n",
    "        self.__right = right;\n",
    "        self.__previous = left;\n",
    "\n",
    "    def getRightChild(self):\n",
    "        return self.__right;\n",
    "\n",
    "    def getLeftChild(self):\n",
    "        return self.__left;\n",
    "\n",
    "    def setRightChild(self, right):\n",
    "        self.__right = right;\n",
    "\n",
    "    def setLeftChild(self, left):\n",
    "        self.__left = left;\n",
    "\n",
    "    def getData(self):\n",
    "        return self.__data"
   ]
  },
  {
   "cell_type": "code",
   "execution_count": null,
   "metadata": {
    "collapsed": true
   },
   "outputs": [],
   "source": []
  }
 ],
 "metadata": {
  "kernelspec": {
   "display_name": "Python 3",
   "language": "python",
   "name": "python3"
  },
  "language_info": {
   "codemirror_mode": {
    "name": "ipython",
    "version": 3
   },
   "file_extension": ".py",
   "mimetype": "text/x-python",
   "name": "python",
   "nbconvert_exporter": "python",
   "pygments_lexer": "ipython3",
   "version": "3.5.4"
  }
 },
 "nbformat": 4,
 "nbformat_minor": 2
}
