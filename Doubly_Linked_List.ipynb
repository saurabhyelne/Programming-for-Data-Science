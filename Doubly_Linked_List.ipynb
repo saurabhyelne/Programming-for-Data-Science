{
 "cells": [
  {
   "cell_type": "markdown",
   "metadata": {},
   "source": [
    "# Doubly Linked List Implementation"
   ]
  },
  {
   "cell_type": "code",
   "execution_count": 155,
   "metadata": {
    "collapsed": true
   },
   "outputs": [],
   "source": [
    "from ipynb.fs.defs.List_Node_N import ListNode"
   ]
  },
  {
   "cell_type": "code",
   "execution_count": 156,
   "metadata": {
    "collapsed": true
   },
   "outputs": [],
   "source": [
    "class MyList():\n",
    "    __start = None;\n",
    "    __end = None;\n",
    "    __length = None;\n",
    "\n",
    "    def __init__(self):\n",
    "        self.__length = 0\n",
    "\n",
    "    def push_back(self, data):  # runs in constant time.\n",
    "        new_node = ListNode(data,None,None)\n",
    "        if self.__start is None:\n",
    "            self.__start = new_node\n",
    "            self.__end = new_node\n",
    "        else:\n",
    "\n",
    "            new_node.setPrevious (self.__end)\n",
    "            new_node.setNext(None)\n",
    "            self.__end.setNext(new_node)\n",
    "            self.__end = new_node\n",
    "\n",
    "        self.__length+=1\n",
    "\n",
    "    def push_front(self, data):  # runs in constant time\n",
    "        new_node=ListNode(data,None,None)\n",
    "        if self.__start is None:\n",
    "            self.__start = new_node\n",
    "            self.__end = new_node\n",
    "        else:\n",
    "            new_node.setNext=self.__start\n",
    "            new_node.setPrevious(None)\n",
    "            self.__start.setPrevious (new_node)\n",
    "            self.__start=new_node\n",
    "\n",
    "        self.__length += 1\n",
    "\n",
    "    def insert(self, index, data):  # runs in O(n) time.\n",
    "        if index==0:\n",
    "            self.push_front(data)\n",
    "\n",
    "\n",
    "        elif 0 < index <= self.__length:\n",
    "            current_node = self.__start\n",
    "            count = 0\n",
    "            while count < (index - 1):\n",
    "                current_node = current_node.getNext()\n",
    "                count += 1\n",
    "\n",
    "            node = ListNode(data, current_node,current_node.getNext())\n",
    "            current_node.getNext().setPrevious(node)\n",
    "            current_node.setNext(node)\n",
    "            self.__length+=1\n",
    "            # current_node.getnext().setPrevious = node\n",
    "        else:\n",
    "            print(\"IndexError\");\n",
    "\n",
    "\n",
    "    def get(self, index):  # runs in O(n) time.\n",
    "        if 0 <= index < self.__length:\n",
    "            current_node = self.__start\n",
    "            current_pos = 0\n",
    "\n",
    "            while current_pos < index:\n",
    "                current_node = current_node.getNext()\n",
    "                current_pos += 1\n",
    "            return print(\"\\n\"+ str(current_node.getData()))\n",
    "\n",
    "        else:\n",
    "            return print(\"\\n\"+\"IndexError\");\n",
    "\n",
    "    def length(self):  # runs in constant time.\n",
    "        print(str(self.__length))\n",
    "        print(\"\\n\")\n",
    "\n",
    "    def printlist(self):  # runs in O(n) time. Prints all the data in the list with a space in between each data element.\n",
    "        current_node = self.__start\n",
    "        while current_node.getNext() is not None:\n",
    "            print(str(current_node.getData()) + \"\\t\")\n",
    "            current_node = current_node.getNext()\n",
    "        print(self.__end.getData())"
   ]
  },
  {
   "cell_type": "markdown",
   "metadata": {},
   "source": [
    "## Creating a doubly link list"
   ]
  },
  {
   "cell_type": "code",
   "execution_count": 163,
   "metadata": {
    "collapsed": true
   },
   "outputs": [],
   "source": [
    "l=MyList()"
   ]
  },
  {
   "cell_type": "markdown",
   "metadata": {},
   "source": [
    "## Creating a start and end node using push_front and push_back methods"
   ]
  },
  {
   "cell_type": "code",
   "execution_count": 164,
   "metadata": {
    "collapsed": true
   },
   "outputs": [],
   "source": [
    "l.push_front(3)\n",
    "l.push_back(6)"
   ]
  },
  {
   "cell_type": "markdown",
   "metadata": {},
   "source": [
    "## Inserting value of 14 at index position 1"
   ]
  },
  {
   "cell_type": "code",
   "execution_count": 165,
   "metadata": {
    "collapsed": true
   },
   "outputs": [],
   "source": [
    "l.insert(1,14)"
   ]
  },
  {
   "cell_type": "markdown",
   "metadata": {},
   "source": [
    "## Printing the double linked list"
   ]
  },
  {
   "cell_type": "code",
   "execution_count": 166,
   "metadata": {},
   "outputs": [
    {
     "name": "stdout",
     "output_type": "stream",
     "text": [
      "3\t\n",
      "14\t\n",
      "6\n"
     ]
    }
   ],
   "source": [
    "l.printlist()"
   ]
  },
  {
   "cell_type": "markdown",
   "metadata": {},
   "source": [
    "## Getting the data at index= 2"
   ]
  },
  {
   "cell_type": "code",
   "execution_count": 167,
   "metadata": {},
   "outputs": [
    {
     "name": "stdout",
     "output_type": "stream",
     "text": [
      "\n",
      "6\n"
     ]
    }
   ],
   "source": [
    "l.get(2)"
   ]
  },
  {
   "cell_type": "markdown",
   "metadata": {},
   "source": [
    "## Printing the length of the list"
   ]
  },
  {
   "cell_type": "code",
   "execution_count": 168,
   "metadata": {},
   "outputs": [
    {
     "name": "stdout",
     "output_type": "stream",
     "text": [
      "3\n",
      "\n",
      "\n"
     ]
    }
   ],
   "source": [
    "l.length()"
   ]
  }
 ],
 "metadata": {
  "kernelspec": {
   "display_name": "Python 3",
   "language": "python",
   "name": "python3"
  },
  "language_info": {
   "codemirror_mode": {
    "name": "ipython",
    "version": 3
   },
   "file_extension": ".py",
   "mimetype": "text/x-python",
   "name": "python",
   "nbconvert_exporter": "python",
   "pygments_lexer": "ipython3",
   "version": "3.5.4"
  }
 },
 "nbformat": 4,
 "nbformat_minor": 2
}
