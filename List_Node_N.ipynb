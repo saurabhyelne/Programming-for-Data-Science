{
 "cells": [
  {
   "cell_type": "markdown",
   "metadata": {},
   "source": [
    "# Implementing the List Node Class"
   ]
  },
  {
   "cell_type": "code",
   "execution_count": 8,
   "metadata": {
    "collapsed": true
   },
   "outputs": [],
   "source": [
    "class ListNode():\n",
    "    __data = None;\n",
    "    __next = None;\n",
    "    __previous = None;\n",
    "\n",
    "    def __init__(self, data, previous, next):\n",
    "        self.__data = data;\n",
    "        self.__next = next;\n",
    "        self.__previous = previous;\n",
    "\n",
    "    def getPrevious(self):\n",
    "        return self.__previous;\n",
    "\n",
    "    def setPrevious(self, previous):\n",
    "        self.__previous = previous;\n",
    "\n",
    "    def getNext(self):\n",
    "        return self.__next;\n",
    "\n",
    "    def setNext(self, next):\n",
    "        self.__next = next;\n",
    "\n",
    "    def getData(self):\n",
    "        return self.__data;"
   ]
  },
  {
   "cell_type": "code",
   "execution_count": null,
   "metadata": {
    "collapsed": true
   },
   "outputs": [],
   "source": []
  },
  {
   "cell_type": "code",
   "execution_count": null,
   "metadata": {
    "collapsed": true
   },
   "outputs": [],
   "source": []
  }
 ],
 "metadata": {
  "kernelspec": {
   "display_name": "Python 3",
   "language": "python",
   "name": "python3"
  },
  "language_info": {
   "codemirror_mode": {
    "name": "ipython",
    "version": 3
   },
   "file_extension": ".py",
   "mimetype": "text/x-python",
   "name": "python",
   "nbconvert_exporter": "python",
   "pygments_lexer": "ipython3",
   "version": "3.5.4"
  }
 },
 "nbformat": 4,
 "nbformat_minor": 2
}
