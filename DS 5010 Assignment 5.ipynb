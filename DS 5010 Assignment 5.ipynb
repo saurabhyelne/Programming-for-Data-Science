{
 "cells": [
  {
   "cell_type": "markdown",
   "metadata": {},
   "source": [
    "# *DS 5010 Assignment 5*"
   ]
  },
  {
   "cell_type": "markdown",
   "metadata": {},
   "source": [
    "## 2-1. Simple Message: Store a message in a variable, and then print that message .\n"
   ]
  },
  {
   "cell_type": "code",
   "execution_count": 315,
   "metadata": {},
   "outputs": [
    {
     "name": "stdout",
     "output_type": "stream",
     "text": [
      "Hello World\n"
     ]
    }
   ],
   "source": [
    "var=\"Hello World\"\n",
    "print(var)"
   ]
  },
  {
   "cell_type": "markdown",
   "metadata": {},
   "source": [
    "## 2-2. Simple Messages: Store a message in a variable, and print that message . Then change the value of your variable to a new message, and print the new message ."
   ]
  },
  {
   "cell_type": "code",
   "execution_count": 316,
   "metadata": {},
   "outputs": [
    {
     "name": "stdout",
     "output_type": "stream",
     "text": [
      "Hello World\n",
      "Hi Python\n"
     ]
    }
   ],
   "source": [
    "var=\"Hello World\"\n",
    "print(var)\n",
    "\n",
    "var=\"Hi Python\"\n",
    "print(var)"
   ]
  },
  {
   "cell_type": "markdown",
   "metadata": {},
   "source": [
    "## 2-3. Personal Message: Store a person’s name in a variable, and print a message to that person . Your message should be simple, such as, “Hello Eric, would you like to learn some Python today?”"
   ]
  },
  {
   "cell_type": "code",
   "execution_count": 317,
   "metadata": {},
   "outputs": [
    {
     "name": "stdout",
     "output_type": "stream",
     "text": [
      "Hello Eric, would you like to learn some Python today?\n"
     ]
    }
   ],
   "source": [
    "per=\"Eric\"\n",
    "\n",
    "print(\"Hello\"+ \" \" + per+\", would you like to learn some Python today?\")"
   ]
  },
  {
   "cell_type": "markdown",
   "metadata": {},
   "source": [
    "## 2-4. Name Cases: Store a person’s name in a variable, and then print that person’s name in lowercase, uppercase, and titlecase ."
   ]
  },
  {
   "cell_type": "code",
   "execution_count": 318,
   "metadata": {},
   "outputs": [
    {
     "name": "stdout",
     "output_type": "stream",
     "text": [
      "ERIC\n",
      "eric\n",
      "Eric\n"
     ]
    }
   ],
   "source": [
    "print(per.upper())\n",
    "print(per.lower())\n",
    "print(per.title())"
   ]
  },
  {
   "cell_type": "markdown",
   "metadata": {},
   "source": [
    "## 2-5. Famous Quote: Find a quote from a famous person you admire . Print the quote and the name of its author . Your output should look something like the following, including the quotation marks: Albert Einstein once said, “A person who never made a mistake never tried anything new.”"
   ]
  },
  {
   "cell_type": "code",
   "execution_count": 319,
   "metadata": {},
   "outputs": [
    {
     "name": "stdout",
     "output_type": "stream",
     "text": [
      "Albert Einstein once said, “A person who never made a mistake never tried anything new.”\n"
     ]
    }
   ],
   "source": [
    "print('Albert Einstein once said, “A person who never made a mistake never tried anything new.”')"
   ]
  },
  {
   "cell_type": "markdown",
   "metadata": {},
   "source": [
    "## 2-6. Famous Quote 2: Repeat Exercise 2-5, but this time store the famous person’s name in a variable called famous_person . Then compose your message and store it in a new variable called message . Print your message ."
   ]
  },
  {
   "cell_type": "code",
   "execution_count": 320,
   "metadata": {},
   "outputs": [
    {
     "name": "stdout",
     "output_type": "stream",
     "text": [
      "Albert Einstein once said, “A person who never made a mistake never tried anything new.”\n"
     ]
    }
   ],
   "source": [
    "famous_person= \"Albert Einstein\"\n",
    "message= famous_person +\" \"+'once said, “A person who never made a mistake never tried anything new.”'\n",
    "print(message)"
   ]
  },
  {
   "cell_type": "markdown",
   "metadata": {},
   "source": [
    "## 2-7. Stripping Names: Store a person’s name, and include some whitespace characters at the beginning and end of the name . Make sure you use each character combination, \"\\t\" and \"\\n\", at least once . Print the name once, so the whitespace around the name is displayed . Then print the name using each of the three stripping functions, lstrip(), rstrip(), and strip() ."
   ]
  },
  {
   "cell_type": "code",
   "execution_count": 321,
   "metadata": {},
   "outputs": [
    {
     "ename": "SyntaxError",
     "evalue": "invalid syntax (<ipython-input-321-5e51ff55f8e8>, line 1)",
     "output_type": "error",
     "traceback": [
      "\u001b[0;36m  File \u001b[0;32m\"<ipython-input-321-5e51ff55f8e8>\"\u001b[0;36m, line \u001b[0;32m1\u001b[0m\n\u001b[0;31m    person name= 'Saurabh Yelne'\u001b[0m\n\u001b[0m              ^\u001b[0m\n\u001b[0;31mSyntaxError\u001b[0m\u001b[0;31m:\u001b[0m invalid syntax\n"
     ]
    }
   ],
   "source": [
    "person name= 'Saurabh Yelne'"
   ]
  },
  {
   "cell_type": "markdown",
   "metadata": {},
   "source": [
    "## 2-8. Number Eight: Write addition, subtraction, multiplication, and division operations that each result in the number 8 . Be sure to enclose your operations in print statements to see the results . You should create four lines that look like this: print(5 + 3). Your output should simply be four lines with the number 8 appearing once on each line .\n"
   ]
  },
  {
   "cell_type": "code",
   "execution_count": null,
   "metadata": {
    "collapsed": true
   },
   "outputs": [],
   "source": [
    "print(5 + 3)\n",
    "print(10 - 2)\n",
    "print(4** 2)\n",
    "print(8.0 / 1.0)"
   ]
  },
  {
   "cell_type": "markdown",
   "metadata": {},
   "source": [
    "## 2-9. Favorite Number: Store your favorite number in a variable . Then, using that variable, create a message that reveals your favorite number . Print that message ."
   ]
  },
  {
   "cell_type": "code",
   "execution_count": null,
   "metadata": {
    "collapsed": true
   },
   "outputs": [],
   "source": [
    "favorite_number=7\n",
    "print(\"My favorite number is,\" + \" \"+str(favorite_number))"
   ]
  },
  {
   "cell_type": "markdown",
   "metadata": {},
   "source": [
    "## 2-10. Adding Comments: Choose two of the programs you’ve written, and add at least one comment to each . If you don’t have anything specific to write because your programs are too simple at this point, just add your name and the current date at the top of each program file . Then write one sentence describing what the program does ."
   ]
  },
  {
   "cell_type": "code",
   "execution_count": null,
   "metadata": {
    "collapsed": true
   },
   "outputs": [],
   "source": [
    "#Print my favorite number\n",
    "favorite_number=7\n",
    "print(\"My favorite number is,\" + \" \"+str(favorite_number))\n",
    "\n",
    "#addition\n",
    "print(5 + 3)"
   ]
  },
  {
   "cell_type": "markdown",
   "metadata": {},
   "source": [
    "## 2-11. Zen of Python: Enter import this into a Python terminal session and skim through the additional principles ."
   ]
  },
  {
   "cell_type": "code",
   "execution_count": null,
   "metadata": {
    "collapsed": true
   },
   "outputs": [],
   "source": [
    "import this"
   ]
  },
  {
   "cell_type": "markdown",
   "metadata": {},
   "source": [
    "## 3-1. Names: Store the names of a few of your friends in a list called names . Print each person’s name by accessing each element in the list, one at a time."
   ]
  },
  {
   "cell_type": "code",
   "execution_count": null,
   "metadata": {
    "collapsed": true
   },
   "outputs": [],
   "source": [
    "names=[\"ben\",\"peter\",\"roger\"]\n",
    "\n",
    "for n in names:\n",
    "    print(n)"
   ]
  },
  {
   "cell_type": "markdown",
   "metadata": {},
   "source": [
    "## 3-2. Greetings: Start with the list you used in Exercise 3-1, but instead of just printing each person’s name, print a message to them. The text of each message should be the same, but each message should be personalized with the person’s name."
   ]
  },
  {
   "cell_type": "code",
   "execution_count": null,
   "metadata": {
    "collapsed": true
   },
   "outputs": [],
   "source": [
    "names=[\"ben\",\"peter\",\"roger\"]\n",
    "\n",
    "for n in names:\n",
    "    print(\"Hi\" +\" \"+ str(n.title()))"
   ]
  },
  {
   "cell_type": "markdown",
   "metadata": {},
   "source": [
    "## 3-3. Your Own List: Think of your favorite mode of transportation, such as a motorcycle or a car, and make a list that stores several examples . Use your list to print a series of statements about these items, such as “I would like to own a Honda motorcycle .”"
   ]
  },
  {
   "cell_type": "code",
   "execution_count": null,
   "metadata": {
    "collapsed": true
   },
   "outputs": [],
   "source": [
    "transport=[\"car\", \"bike\", \"train\"]\n",
    "\n",
    "\n",
    "print(\"I love\"+\" \"+ str(transport[0].title()))\n",
    "print(\"I like fast\"+\" \"+ str(transport[1].title()))\n",
    "print(\"For long journey I take a\"+\" \"+ str(transport[2].title()))"
   ]
  },
  {
   "cell_type": "markdown",
   "metadata": {},
   "source": [
    "## 3-4. Guest List: If you could invite anyone, living or deceased, to dinner, who would you invite? Make a list that includes at least three people you’d like to invite to dinner . Then use your list to print a message to each person, inviting them to dinner .\n"
   ]
  },
  {
   "cell_type": "code",
   "execution_count": null,
   "metadata": {
    "collapsed": true
   },
   "outputs": [],
   "source": [
    "dinner=[\"Steve\", \"Chanakya\",\"Warren\"]\n",
    "\n",
    "for p in dinner:\n",
    "    print(\"Hi\"+\" \"+ p +\", you are invited for dinner\")"
   ]
  },
  {
   "cell_type": "markdown",
   "metadata": {},
   "source": [
    "## 3-5. Changing Guest List: You just heard that one of your guests can’t make the dinner, so you need to send out a new set of invitations . You’ll have to think of someone else to invite.\n",
    "• Start with your program from Exercise 3-4 . Add a print statement at the end of your program stating the name of the guest who can’t make it .\n",
    "• Modify your list, replacing the name of the guest who can’t make it with the name of the new person you are inviting .\n",
    "• Print a second set of invitation messages, one for each person who is still in your list ."
   ]
  },
  {
   "cell_type": "code",
   "execution_count": null,
   "metadata": {
    "collapsed": true
   },
   "outputs": [],
   "source": [
    "dinner=[\"Steve\", \"Chanakya\",\"Warren\"]\n",
    "\n",
    "for p in dinner:\n",
    "    print(\"Hi\"+\" \"+ p +\", you are invited for dinner\")\n",
    "print( dinner[1] +\" \" +\"can't make it\")\n",
    "\n",
    "dinner=[\"Steve\", \"Stewie\",\"Warren\"]\n",
    "\n",
    "for p in dinner:\n",
    "    print(\"\\nHi\"+\" \"+ p +\", you are invited for dinner\")"
   ]
  },
  {
   "cell_type": "markdown",
   "metadata": {},
   "source": [
    "## 3-6. More Guests: You just found a bigger dinner table, so now more space is available . Think of three more guests to invite to dinner .\n",
    "• Start with your program from Exercise 3-4 or Exercise 3-5 . Add a print statement to the end of your program informing people that you found a bigger dinner table .\n",
    "• Use insert() to add one new guest to the beginning of your list .\n",
    "• Use insert() to add one new guest to the middle of your list .\n",
    "• Use append() to add one new guest to the end of your list .\n",
    "• Print a new set of invitation messages, one for each person in your list"
   ]
  },
  {
   "cell_type": "code",
   "execution_count": null,
   "metadata": {
    "collapsed": true
   },
   "outputs": [],
   "source": [
    "dinner=[\"Steve\", \"Stewie\",\"Warren\"]\n",
    "\n",
    "for p in dinner:\n",
    "    print(\"\\nHi\"+\" \"+ p +\", you are invited for dinner\")\n",
    "print (\"Found a bigger dinner table!\")   \n",
    "\n",
    "dinner.insert(0,\"Peter\")\n",
    "dinner.insert(3,\"Megan\")\n",
    "dinner.append(\"Brain\")\n",
    "\n",
    "\n",
    "for p in dinner:\n",
    "    print(\"\\nHi\"+\" \"+ p +\", you are invited for dinner\")\n",
    "dinner"
   ]
  },
  {
   "cell_type": "markdown",
   "metadata": {},
   "source": [
    "## 3-7. Shrinking Guest List: You just found out that your new dinner table won’t arrive in time for the dinner, and you have space for only two guests .\n",
    "• Start with your program from Exercise 3-6 . Add a new line that prints a message saying that you can invite only two people for dinner .\n",
    "• Use pop() to remove guests from your list one at a time until only two names remain in your list . Each time you pop a name from your list, print a message to that person letting them know you’re sorry you can’t invite them to dinner .\n",
    "• Print a message to each of the two people still on your list, letting them know they’re still invited .\n",
    "• Use del to remove the last two names from your list, so you have an empty list . Print your list to make sure you actually have an empty list at the end of your program ."
   ]
  },
  {
   "cell_type": "code",
   "execution_count": null,
   "metadata": {
    "collapsed": true,
    "scrolled": true
   },
   "outputs": [],
   "source": [
    "print(\"Dinner table not coming on time. I have space for only two people\")"
   ]
  },
  {
   "cell_type": "code",
   "execution_count": null,
   "metadata": {
    "collapsed": true
   },
   "outputs": [],
   "source": [
    "dinner=['Peter', 'Steve', 'Stewie', 'Megan', 'Warren', 'Brain']\n",
    "\n",
    "while len(dinner) != 2:\n",
    "    print(\"Sorry I can't invite you to dinner\",dinner.pop())\n",
    "print(\"\\n\")    \n",
    "    \n",
    "for p in dinner:\n",
    "    while len(dinner)!=0:\n",
    "        print(\"You are invited to dinner\"+\" \"+ dinner.pop())\n",
    "\n",
    "print(dinner)  "
   ]
  },
  {
   "cell_type": "markdown",
   "metadata": {},
   "source": [
    "## 3-8. Seeing the World: Think of at least five places in the world you’d like to visit .\n",
    "• Store the locations in a list . Make sure the list is not in alphabetical order \n",
    "\n",
    "• Print your list in its original order . Don’t worry about printing the list neatly, just print it as a raw Python list\n",
    "\n",
    "• Use sorted() to print your list in alphabetical order without modifying the actual list .\n",
    "\n",
    "• Show that your list is still in its original order by printing it .\n",
    "\n",
    "• Use sorted() to print your list in reverse alphabetical order without changing the order of the original list .\n",
    "\n",
    "• Show that your list is still in its original order by printing it again .\n",
    "\n",
    "• Use reverse() to change the order of your list . Print the list to show that its order has changed .\n",
    "\n",
    "• Use reverse() to change the order of your list again . Print the list to show it’s back to its original order .\n",
    "\n",
    "• Use sort() to change your list so it’s stored in alphabetical order . Print the list to show that its order has been changed .\n",
    "\n",
    "• Use sort() to change your list so it’s stored in reverse alphabetical order . Print the list to show that its order has changed"
   ]
  },
  {
   "cell_type": "code",
   "execution_count": null,
   "metadata": {
    "collapsed": true,
    "scrolled": true
   },
   "outputs": [],
   "source": [
    "places = ['London', 'LA', 'Hong Kong', 'Vancover', 'Toronto']\n",
    "print(places)\n",
    "\n",
    "print(sorted(places))\n",
    "\n",
    "print(places)"
   ]
  },
  {
   "cell_type": "code",
   "execution_count": null,
   "metadata": {
    "collapsed": true
   },
   "outputs": [],
   "source": [
    "#Use reverse() to change the order of your list . Print the list to show that its order has changed .\n",
    "places.reverse()\n",
    "places"
   ]
  },
  {
   "cell_type": "code",
   "execution_count": null,
   "metadata": {
    "collapsed": true
   },
   "outputs": [],
   "source": [
    "#Use reverse() to change the order of your list again . Print the list to show it’s back to its original order .\n",
    "places.reverse()\n",
    "places"
   ]
  },
  {
   "cell_type": "code",
   "execution_count": null,
   "metadata": {
    "collapsed": true
   },
   "outputs": [],
   "source": [
    "#Use sort() to change your list so it’s stored in alphabetical order. \n",
    "#Print the list to show that its order has been changed.\n",
    "\n",
    "places.sort()\n",
    "places"
   ]
  },
  {
   "cell_type": "code",
   "execution_count": null,
   "metadata": {
    "collapsed": true
   },
   "outputs": [],
   "source": [
    "#Use sort() to change your list so it’s stored in reverse alphabetical order. \n",
    "#Print the list to show that its order has changed.\n",
    "places.sort(reverse=True)\n",
    "places"
   ]
  },
  {
   "cell_type": "markdown",
   "metadata": {},
   "source": [
    "## 3-9. Dinner Guests: Working with one of the programs from Exercises 3-4 through 3-7 (page 46), use len() to print a message indicating the number of people you are inviting to dinner .\n"
   ]
  },
  {
   "cell_type": "code",
   "execution_count": null,
   "metadata": {
    "collapsed": true
   },
   "outputs": [],
   "source": [
    "dinner=['Peter', 'Steve', 'Stewie', 'Megan', 'Warren', 'Brain']\n",
    "\n",
    "len(dinner)"
   ]
  },
  {
   "cell_type": "markdown",
   "metadata": {},
   "source": [
    "## 3-10. Every Function: Think of something you could store in a list . For example, you could make a list of mountains, rivers, countries, cities, languages, or anything else you’d like . Write a program that creates a list containing these items and then uses each function introduced in this chapter at least once ."
   ]
  },
  {
   "cell_type": "code",
   "execution_count": null,
   "metadata": {
    "collapsed": true
   },
   "outputs": [],
   "source": [
    "Repetitive- Asking the same thing"
   ]
  },
  {
   "cell_type": "markdown",
   "metadata": {},
   "source": [
    "## 3-11. Intentional Error: If you haven’t received an index error in one of your programs yet, try to make one happen . Change an index in one of your programs to produce an index error . Make sure you correct the error before closing the program ."
   ]
  },
  {
   "cell_type": "code",
   "execution_count": null,
   "metadata": {
    "collapsed": true
   },
   "outputs": [],
   "source": [
    "#index=[1,2,3,4]\n",
    "#index[5]\n",
    "#IndexError: list index out of range\n",
    "\n",
    "index[3]"
   ]
  },
  {
   "cell_type": "markdown",
   "metadata": {},
   "source": [
    "## 4-1. Pizzas: Think of at least three kinds of your favorite pizza . Store these pizza names in a list, and then use a for loop to print the name of each pizza .\n",
    "• Modify your for loop to print a sentence using the name of the pizza instead of printing just the name of the pizza . For each pizza you should have one line of output containing a simple statement like I like pepperoni pizza .\n",
    "\n",
    "• Add a line at the end of your program, outside the for loop, that states how much you like pizza . The output should consist of three or more lines about the kinds of pizza you like and then an additional sentence, such as I really love pizza!"
   ]
  },
  {
   "cell_type": "code",
   "execution_count": null,
   "metadata": {
    "collapsed": true
   },
   "outputs": [],
   "source": [
    "pizzas = ['buffalo chicken', 'cheese', 'veggie']\n",
    "\n",
    "# Print the names of all the pizzas.\n",
    "for pizza in pizzas:\n",
    "    print(pizza)\n",
    "\n",
    "print(\"\\n\")\n",
    "\n",
    "# Print a sentence about each pizza.\n",
    "for pizza in pizzas:\n",
    "    print(\"I really love \" + pizza + \" pizza!\")\n",
    "\n",
    "print(\"\\nI really love pizza!\")"
   ]
  },
  {
   "cell_type": "markdown",
   "metadata": {},
   "source": [
    "## 4-2. Animals: Think of at least three different animals that have a common characteristic . Store the names of these animals in a list, and then use a for loop to print out the name of each animal .\n",
    "• Modify your program to print a statement about each animal, such as\n",
    "A dog would make a great pet.\n",
    "\n",
    "• Add a line at the end of your program stating what these animals have in common . You could print a sentence such as Any of these animals would make a great pet!"
   ]
  },
  {
   "cell_type": "code",
   "execution_count": null,
   "metadata": {
    "collapsed": true
   },
   "outputs": [],
   "source": [
    "animal=[\"cat\", \"dog\", \"mice\"]\n",
    "\n",
    "print(\"I love\"+\" \"+ str(animal[0].title()))\n",
    "print(\"I like\"+\" \"+ str(animal[1].title()))\n",
    "print(\"I like a talking\"+\" \"+ str(animal[2].title()))\n",
    "print(\"\\nAll these animals make a good pet\")"
   ]
  },
  {
   "cell_type": "markdown",
   "metadata": {},
   "source": [
    "## 4-3. Counting to Twenty: Use a for loop to print the numbers from 1 to 20, inclusive ."
   ]
  },
  {
   "cell_type": "code",
   "execution_count": null,
   "metadata": {
    "collapsed": true
   },
   "outputs": [],
   "source": [
    "numbers = list(range(1, 21))\n",
    "result=[]\n",
    "\n",
    "for n in numbers:\n",
    "    result.append(n)\n",
    "print (result)"
   ]
  },
  {
   "cell_type": "markdown",
   "metadata": {},
   "source": [
    "## 4-4. One Million: Make a list of the numbers from one to one million, and then use a for loop to print the numbers . (If the output is taking too long, stop it by pressing ctrl-C or by closing the output window .)"
   ]
  },
  {
   "cell_type": "code",
   "execution_count": null,
   "metadata": {
    "collapsed": true
   },
   "outputs": [],
   "source": [
    "numbers = list(range(1, 1000001))\n",
    "\n",
    "for n in numbers:\n",
    "    print(n)"
   ]
  },
  {
   "cell_type": "markdown",
   "metadata": {},
   "source": [
    "## 4-5. Summing a Million: Make a list of the numbers from one to one million, and then use min() and max() to make sure your list actually starts at one and ends at one million . Also, use the sum() function to see how quickly Python can add a million numbers ."
   ]
  },
  {
   "cell_type": "code",
   "execution_count": null,
   "metadata": {
    "collapsed": true
   },
   "outputs": [],
   "source": [
    "numbers = list(range(1, 1000001))\n",
    "\n",
    "print(min(numbers))\n",
    "print(max(numbers))\n",
    "print(sum(numbers))"
   ]
  },
  {
   "cell_type": "markdown",
   "metadata": {},
   "source": [
    "## 4-6. Odd Numbers: Use the third argument of the range() function to make a list of the odd numbers from 1 to 20 . Use a for loop to print each number ."
   ]
  },
  {
   "cell_type": "code",
   "execution_count": null,
   "metadata": {
    "collapsed": true
   },
   "outputs": [],
   "source": [
    "numbers = list(range(1,21,2))\n",
    "for n in numbers:\n",
    "    print(n)"
   ]
  },
  {
   "cell_type": "markdown",
   "metadata": {},
   "source": [
    "## 4-7. Threes: Make a list of the multiples of 3 from 3 to 30 . Use a for loop to print the numbers in your list ."
   ]
  },
  {
   "cell_type": "code",
   "execution_count": null,
   "metadata": {
    "collapsed": true
   },
   "outputs": [],
   "source": [
    "three = list(range(3, 31, 3))\n",
    "\n",
    "for n in three:\n",
    "    print(n)"
   ]
  },
  {
   "cell_type": "markdown",
   "metadata": {},
   "source": [
    "## 4-8. Cubes: A number raised to the third power is called a cube . For example, the cube of 2 is written as 2**3 in Python . Make a list of the first 10 cubes (that is, the cube of each integer from 1 through 10), and use a for loop to print out the value of each cube ."
   ]
  },
  {
   "cell_type": "code",
   "execution_count": null,
   "metadata": {
    "collapsed": true
   },
   "outputs": [],
   "source": [
    "cubes = []\n",
    "for number in range(1, 11):\n",
    "    cubes.append(number**3)\n",
    "print(cubes)"
   ]
  },
  {
   "cell_type": "markdown",
   "metadata": {},
   "source": [
    "## 4-9. Cube Comprehension: Use a list comprehension to generate a list of the first 10 cubes ."
   ]
  },
  {
   "cell_type": "code",
   "execution_count": null,
   "metadata": {
    "collapsed": true
   },
   "outputs": [],
   "source": [
    "cubes = [number**3 for number in range(1,11)]\n",
    "\n",
    "for cube in cubes:\n",
    "    print(cube)"
   ]
  },
  {
   "cell_type": "markdown",
   "metadata": {},
   "source": [
    "## 4-10. Slices: Using one of the programs you wrote in this chapter, add several lines to the end of the program that do the following:\n",
    "• Print the message, The first three items in the list are: . Then use a slice to print the first three items from that program’s list .\n",
    "\n",
    "• Print the message, Three items from the middle of the list are: . Use a slice to print three items from the middle of the list .\n",
    "\n",
    "• Print the message, The last three items in the list are: . Use a slice to print the last three items in the list .\n"
   ]
  },
  {
   "cell_type": "code",
   "execution_count": null,
   "metadata": {
    "collapsed": true
   },
   "outputs": [],
   "source": [
    "three = list(range(3, 31, 3))\n",
    "print(three)\n",
    "\n",
    "print(\"The first three items in the list are:\"+\" \"+ str(three[:3])) \n",
    "print(\"The middle three items in the list are:\"+\" \"+ str(three[4:7])) \n",
    "print(\"The first three items in the list are:\"+\" \"+ str(three[-3:])) "
   ]
  },
  {
   "cell_type": "markdown",
   "metadata": {
    "collapsed": true
   },
   "source": [
    "## 4-11. My Pizzas, Your Pizzas: Start with your program from Exercise 4-1 (page 60) . Make a copy of the list of pizzas, and call it friend_pizzas . Then, do the following:\n",
    "• Add a new pizza to the original list .\n",
    "\n",
    "• Add a different pizza to the list friend_pizzas .\n",
    "\n",
    "• Prove that you have two separate lists . Print the message, My favorite pizzas are:, and then use a for loop to print the first list . Print the message, My friend’s favorite pizzas are:, and then use a for loop to print the sec- ond list . Make sure each new pizza is stored in the appropriate list .\n"
   ]
  },
  {
   "cell_type": "code",
   "execution_count": null,
   "metadata": {
    "collapsed": true
   },
   "outputs": [],
   "source": [
    "my_pizzas = ['buffalo chicken', 'cheese', 'veggie']\n",
    "friend_pizzas = my_pizzas[:]\n",
    "\n",
    "my_pizzas.append(\"spinach\")\n",
    "friend_pizzas.append('tomato')\n",
    "\n",
    "print(\"My favorite pizzas are:\")\n",
    "for pizza in my_pizzas:\n",
    "    print(\"- \" + pizza)\n",
    "\n",
    "print(\"\\nMy friend's favorite pizzas are:\")\n",
    "for pizza in friend_pizzas:\n",
    "    print(\"- \" + pizza)"
   ]
  },
  {
   "cell_type": "markdown",
   "metadata": {
    "collapsed": true
   },
   "source": [
    "## 4-12. More Loops: All versions of foods.py in this section have avoided using for loops when printing to save space . Choose a version of foods.py, and write two for loops to print each list of foods ."
   ]
  },
  {
   "cell_type": "code",
   "execution_count": null,
   "metadata": {
    "collapsed": true
   },
   "outputs": [],
   "source": [
    "my_foods = ['pizza', 'falafel', 'carrot cake']\n",
    "friend_foods = my_foods[:]\n",
    "friend_foods.append('ice cream')"
   ]
  },
  {
   "cell_type": "code",
   "execution_count": null,
   "metadata": {
    "collapsed": true
   },
   "outputs": [],
   "source": [
    "for f in my_foods:\n",
    "    print(\"Food: \"+ f)"
   ]
  },
  {
   "cell_type": "code",
   "execution_count": null,
   "metadata": {
    "collapsed": true
   },
   "outputs": [],
   "source": [
    "for f in friend_foods:\n",
    "    print(\"Food: \"+ f)"
   ]
  },
  {
   "cell_type": "markdown",
   "metadata": {
    "collapsed": true
   },
   "source": [
    "## 4-13. Buffet: A buffet-style restaurant offers only five basic foods . Think of five simple foods, and store them in a tuple .\n",
    "• Use a for loop to print each food the restaurant offers .\n",
    "\n",
    "• Try to modify one of the items, and make sure that Python rejects the\n",
    "change .\n",
    "\n",
    "• The restaurant changes its menu, replacing two of the items with different foods . Add a block of code that rewrites the tuple, and then use a for loop to print each of the items on the revised menu ."
   ]
  },
  {
   "cell_type": "code",
   "execution_count": null,
   "metadata": {
    "collapsed": true
   },
   "outputs": [],
   "source": [
    "food = ('Green Salad', 'Panner Masala', 'Chicken Tikka','Fish Finger', 'Baked Potato Soup')\n",
    "\n",
    "print(\"Food the restaurant offers :\")\n",
    "for f in food:\n",
    "    print(\"- \" + f)\n",
    "\n",
    "food = ('Green Salad', 'Panner Masala', 'Rajma','Buritto', 'Baked Potato Soup')\n",
    "\n",
    "\n",
    "print(\"\\nitems on the revised menu.\")\n",
    "for f in food:\n",
    "    print(\"- \" + f)"
   ]
  },
  {
   "cell_type": "markdown",
   "metadata": {},
   "source": [
    "## 4-14. PEP 8: Look through the original PEP 8 style guide at https://python.org/dev/peps/pep-0008/ . You won’t use much of it now, but it might be interesting to skim through it ."
   ]
  },
  {
   "cell_type": "markdown",
   "metadata": {},
   "source": [
    "I am using Jupyter notebook"
   ]
  },
  {
   "cell_type": "markdown",
   "metadata": {},
   "source": [
    "## 4-15. Code Review: Choose three of the programs you’ve written in this chapter and modify each one to comply with PEP 8:\n",
    "• Use four spaces for each indentation level . Set your text editor to insert four spaces every time you press tab, if you haven’t already done so (see Appendix B for instructions on how to do this) .\n",
    "\n",
    "• Use less than 80 characters on each line, and set your editor to show a vertical guideline at the 80th character position .\n",
    "\n",
    "• Don’t use blank lines excessively in your program files"
   ]
  },
  {
   "cell_type": "markdown",
   "metadata": {},
   "source": [
    "I am using Jupyter notebook"
   ]
  },
  {
   "cell_type": "markdown",
   "metadata": {},
   "source": [
    "## 5-1. Conditional Tests: Write a series of conditional tests . Print a statement describing each test and your prediction for the results of each test . Your code should look something like this:\n",
    "                  car = 'subaru'\n",
    "                  print(\"Is car == 'subaru'? I predict True.\")\n",
    "                  print(car == 'subaru')\n",
    "                  print(\"\\nIs car == 'audi'? I predict False.\")\n",
    "                  print(car == 'audi')\n",
    "                  \n",
    "• Look closely at your results, and make sure you understand why each line evaluates to True or False .\n",
    "\n",
    "• Create at least 10 tests . Have at least 5 tests evaluate to True and another 5 tests evaluate to False .\n"
   ]
  },
  {
   "cell_type": "code",
   "execution_count": null,
   "metadata": {
    "collapsed": true
   },
   "outputs": [],
   "source": [
    "name=\"sam\"\n",
    "age=9\n",
    "place=\"NYC\"\n",
    "\n",
    "print(name == 'sam')\n",
    "print(age == 9)\n",
    "print(place == 'NYC')\n",
    "print(age != 8)\n",
    "print(name != 'smith')\n",
    "\n",
    "\n",
    "print(name == 'smith')\n",
    "print(age == 19)\n",
    "print(place == 'NyC')\n",
    "print(age != 9)\n",
    "print(name != 'sam')\n"
   ]
  },
  {
   "cell_type": "markdown",
   "metadata": {},
   "source": [
    "## 5-2. More Conditional Tests: You don’t have to limit the number of tests you create to 10 . If you want to try more comparisons, write more tests and add them to conditional_tests.py . Have at least one True and one False result for each of the following:\n",
    "• Tests for equality and inequality with strings\n",
    "\n",
    "• Tests using the lower() function\n",
    "\n",
    "• Numerical tests involving equality and inequality, greater than and less than, greater than or equal to, and less than or equal to\n",
    "\n",
    "• Tests using the and keyword and the or keyword\n",
    "\n",
    "• Test whether an item is in a list\n",
    "\n",
    "• Test whether an item is not in a list"
   ]
  },
  {
   "cell_type": "code",
   "execution_count": null,
   "metadata": {
    "collapsed": true
   },
   "outputs": [],
   "source": [
    "car = 'BMW' \n",
    "car == 'bmw'"
   ]
  },
  {
   "cell_type": "code",
   "execution_count": null,
   "metadata": {
    "collapsed": true
   },
   "outputs": [],
   "source": [
    "car == \"BMW\""
   ]
  },
  {
   "cell_type": "code",
   "execution_count": null,
   "metadata": {
    "collapsed": true
   },
   "outputs": [],
   "source": [
    "car.lower() == \"bmw\""
   ]
  },
  {
   "cell_type": "code",
   "execution_count": null,
   "metadata": {
    "collapsed": true
   },
   "outputs": [],
   "source": [
    "car.lower() == \"bmW\""
   ]
  },
  {
   "cell_type": "code",
   "execution_count": null,
   "metadata": {
    "collapsed": true
   },
   "outputs": [],
   "source": [
    "age = 9 \n",
    "age >= 21 "
   ]
  },
  {
   "cell_type": "code",
   "execution_count": null,
   "metadata": {
    "collapsed": true
   },
   "outputs": [],
   "source": [
    "age < 11 "
   ]
  },
  {
   "cell_type": "code",
   "execution_count": null,
   "metadata": {
    "collapsed": true
   },
   "outputs": [],
   "source": [
    "age <= 11 "
   ]
  },
  {
   "cell_type": "code",
   "execution_count": null,
   "metadata": {
    "collapsed": true
   },
   "outputs": [],
   "source": [
    "age > 21"
   ]
  },
  {
   "cell_type": "code",
   "execution_count": null,
   "metadata": {
    "collapsed": true
   },
   "outputs": [],
   "source": [
    "age >= 2 and age <= 21"
   ]
  },
  {
   "cell_type": "code",
   "execution_count": null,
   "metadata": {
    "collapsed": true
   },
   "outputs": [],
   "source": [
    "age >= 2 or age <= 21"
   ]
  },
  {
   "cell_type": "code",
   "execution_count": null,
   "metadata": {
    "collapsed": true
   },
   "outputs": [],
   "source": [
    "age >= 22 or age <= 2"
   ]
  },
  {
   "cell_type": "code",
   "execution_count": null,
   "metadata": {
    "collapsed": true
   },
   "outputs": [],
   "source": [
    "age >= 12 and age <= 21"
   ]
  },
  {
   "cell_type": "code",
   "execution_count": null,
   "metadata": {
    "collapsed": true
   },
   "outputs": [],
   "source": [
    "toppings = ['cheese', 'onions', 'tomatos'] \n",
    "'cheese' in toppings"
   ]
  },
  {
   "cell_type": "code",
   "execution_count": null,
   "metadata": {
    "collapsed": true
   },
   "outputs": [],
   "source": [
    "'pepperoni' in toppings"
   ]
  },
  {
   "cell_type": "markdown",
   "metadata": {},
   "source": [
    "## 5-3. Alien Colors #1: Imagine an alien was just shot down in a game . Create a variable called alien_color and assign it a value of 'green', 'yellow', or 'red' .\n",
    "• Write an if statement to test whether the alien’s color is green . If it is, print a message that the player just earned 5 points .\n",
    "\n",
    "• Write one version of this program that passes the if test and another that fails . (The version that fails will have no output .)\n"
   ]
  },
  {
   "cell_type": "code",
   "execution_count": null,
   "metadata": {
    "collapsed": true
   },
   "outputs": [],
   "source": [
    "alien_color = 'green'\n",
    "\n",
    "if alien_color == 'green':\n",
    "    print(\"5 points earned!\")"
   ]
  },
  {
   "cell_type": "code",
   "execution_count": null,
   "metadata": {
    "collapsed": true
   },
   "outputs": [],
   "source": [
    "alien_color = 'yellow'\n",
    "\n",
    "if alien_color == 'green':\n",
    "    print(\"5 points earned!\")"
   ]
  },
  {
   "cell_type": "markdown",
   "metadata": {},
   "source": [
    "## 5-4. Alien Colors #2: Choose a color for an alien as you did in Exercise 5-3, and write an if-else chain .\n",
    "• If the alien’s color is green, print a statement that the player just earned 5 points for shooting the alien .\n",
    "\n",
    "• If the alien’s color isn’t green, print a statement that the player just earned 10 points .\n",
    "\n",
    "• Write one version of this program that runs the if block and another that runs the else block ."
   ]
  },
  {
   "cell_type": "code",
   "execution_count": null,
   "metadata": {
    "collapsed": true
   },
   "outputs": [],
   "source": [
    "alien_color = 'green'\n",
    "\n",
    "if alien_color == 'green':\n",
    "    print(\"5 points earned!\")\n",
    "else:\n",
    "    print(\"10 points earned!\")"
   ]
  },
  {
   "cell_type": "code",
   "execution_count": null,
   "metadata": {
    "collapsed": true
   },
   "outputs": [],
   "source": [
    "alien_color = 'red'\n",
    "\n",
    "if alien_color == 'green':\n",
    "    print(\"5 points earned!\")\n",
    "else:\n",
    "    print(\"10 points earned!\")"
   ]
  },
  {
   "cell_type": "markdown",
   "metadata": {},
   "source": [
    "## 5-5. Alien Colors #3: Turn your if-else chain from Exercise 5-4 into an if-elif- else chain .\n",
    "• If the alien is green, print a message that the player earned 5 points .\n",
    "\n",
    "• If the alien is yellow, print a message that the player earned 10 points.\n",
    "\n",
    "• If the alien is red, print a message that the player earned 15 points .\n",
    "\n",
    "• Write three versions of this program, making sure each message is printed for the appropriate color alien .\n"
   ]
  },
  {
   "cell_type": "code",
   "execution_count": null,
   "metadata": {
    "collapsed": true
   },
   "outputs": [],
   "source": [
    "alien_color = 'red'\n",
    "\n",
    "if alien_color == 'green':\n",
    "    print(\"5 points earned!\")\n",
    "elif alien_color == 'yellow':\n",
    "    print(\"10 points earned!\")\n",
    "else:\n",
    "    print(\"15 points earned!\")"
   ]
  },
  {
   "cell_type": "code",
   "execution_count": null,
   "metadata": {
    "collapsed": true
   },
   "outputs": [],
   "source": [
    "alien_color = 'yellow'\n",
    "\n",
    "if alien_color == 'green':\n",
    "    print(\"5 points earned!\")\n",
    "elif alien_color == 'yellow':\n",
    "    print(\"10 points earned!\")\n",
    "else:\n",
    "    print(\"15 points earned!\")"
   ]
  },
  {
   "cell_type": "code",
   "execution_count": null,
   "metadata": {
    "collapsed": true
   },
   "outputs": [],
   "source": [
    "alien_color = 'green'\n",
    "\n",
    "if alien_color == 'green':\n",
    "    print(\"5 points earned!\")\n",
    "elif alien_color == 'yellow':\n",
    "    print(\"10 points earned!\")\n",
    "else:\n",
    "    print(\"15 points earned!\")"
   ]
  },
  {
   "cell_type": "markdown",
   "metadata": {},
   "source": [
    "## 5-6. Stages of Life: Write an if-elif-else chain that determines a person’s stage of life . Set a value for the variable age, and then:\n",
    "\n",
    "• If the person is less than 2 years old, print a message that the person is a baby .\n",
    "\n",
    "• If the person is at least 2 years old but less than 4, print a message that the person is a toddler .\n",
    "\n",
    "• If the person is at least 4 years old but less than 13, print a message that the person is a kid .\n",
    "\n",
    "• If the person is at least 13 years old but less than 20, print a message that the person is a teenager .\n",
    "\n",
    "• If the person is at least 20 years old but less than 65, print a message that the person is an adult .\n",
    "\n",
    "• If the person is age 65 or older, print a message that the person is an elder ."
   ]
  },
  {
   "cell_type": "code",
   "execution_count": null,
   "metadata": {
    "collapsed": true
   },
   "outputs": [],
   "source": [
    "age = 65\n",
    "\n",
    "if age < 2:\n",
    "    print(\"A baby!\")\n",
    "elif age < 4:\n",
    "    print(\"A toddler!\")\n",
    "elif age < 13:\n",
    "    print(\"A kid!\")\n",
    "elif age < 20:\n",
    "    print(\"A teenager!\")\n",
    "elif age < 65:\n",
    "    print(\"An adult!\")\n",
    "else:\n",
    "    print(\"An elder!\")"
   ]
  },
  {
   "cell_type": "markdown",
   "metadata": {},
   "source": [
    "## 5-7. Favorite Fruit: Make a list of your favorite fruits, and then write a series of independent if statements that check for certain fruits in your list .\n",
    "\n",
    "• Make a list of your three favorite fruits and call it favorite_fruits .\n",
    "\n",
    "• Write five if statements . Each should check whether a certain kind of fruit is in your list . If the fruit is in your list, the if block should print a statement, such as You really like bananas!"
   ]
  },
  {
   "cell_type": "code",
   "execution_count": null,
   "metadata": {
    "collapsed": true
   },
   "outputs": [],
   "source": [
    "favorite_fruits = ['blueberries', 'grapes', 'mango']\n",
    "\n",
    "if 'mango' in favorite_fruits:\n",
    "    print(\"You really like mango!\")\n",
    "if 'bananas' in favorite_fruits:\n",
    "    print(\"You really like bananas!\")\n",
    "if 'apples' in favorite_fruits:\n",
    "    print(\"You really like apples!\")\n",
    "if 'blueberries' in favorite_fruits:\n",
    "    print(\"You really like blueberries!\")\n",
    "if 'grapes' in favorite_fruits:\n",
    "    print(\"You really like grapes!\")"
   ]
  },
  {
   "cell_type": "markdown",
   "metadata": {},
   "source": [
    "### 5-8. Hello Admin: Make a list of five or more usernames, including the name 'admin' . Imagine you are writing code that will print a greeting to each user after they log in to a website . Loop through the list, and print a greeting to each user:\n",
    "• If the username is 'admin', print a special greeting, such as Hello admin, would you like to see a status report?\n",
    "\n",
    "• Otherwise, print a generic greeting, such as Hello Eric, thank you for logging in again."
   ]
  },
  {
   "cell_type": "code",
   "execution_count": null,
   "metadata": {
    "collapsed": true
   },
   "outputs": [],
   "source": [
    "usernames = ['eric', 'willie', 'admin', 'erin', 'ever']\n",
    "\n",
    "for username in usernames:\n",
    "    if username == 'admin':\n",
    "        print(\"Hello admin, would you like to see a status report?\")\n",
    "    else:\n",
    "        print(\"Hello \" + username + \", thank you for logging in again!\")"
   ]
  },
  {
   "cell_type": "markdown",
   "metadata": {},
   "source": [
    "## 5-9. No Users: Add an if test to hello_admin.py to make sure the list of users is not empty .\n",
    "• If the list is empty, print the message We need to find some users!\n",
    "\n",
    "• Remove all of the usernames from your list, and make sure the correct\n",
    "message is printed ."
   ]
  },
  {
   "cell_type": "code",
   "execution_count": null,
   "metadata": {
    "collapsed": true
   },
   "outputs": [],
   "source": [
    "usernames = []\n",
    "\n",
    "if usernames:\n",
    "    for username in usernames:\n",
    "        if username == 'admin':\n",
    "            print(\"Hello admin, would you like to see a status report?\")\n",
    "        else:\n",
    "            print(\"Hello \" + username + \", thank you for logging in again!\")\n",
    "else:\n",
    "    print(\"No Users!\")"
   ]
  },
  {
   "cell_type": "markdown",
   "metadata": {},
   "source": [
    "## 5-10. Checking Usernames: Do the following to create a program that simulates how websites ensure that everyone has a unique username .\n",
    "• Make a list of five or more usernames called current_users .\n",
    "• Make another list of five usernames called new_users . Make sure one or\n",
    "two of the new usernames are also in the current_users list .\n",
    "\n",
    "• Loop through the new_users list to see if each new username has already been used . If it has, print a message that the person will need to enter a new username . If a username has not been used, print a message saying that the username is available .\n",
    "\n",
    "• Make sure your comparison is case insensitive . If 'John' has been used, 'JOHN' should not be accepted .\n",
    "\n"
   ]
  },
  {
   "cell_type": "code",
   "execution_count": null,
   "metadata": {
    "collapsed": true
   },
   "outputs": [],
   "source": [
    "current_users = ['eric', 'willie', 'admin', 'erin', 'Ever']\n",
    "new_users = ['sam', 'peter', 'Louis', 'STEWIE', 'RuSs']\n",
    "\n",
    "current_users_lower = [user.lower() for user in current_users]\n",
    "\n",
    "for new_user in new_users:\n",
    "    if new_user.lower() in current_users_lower:\n",
    "        print(\"Sorry \" + new_user + \", that name is taken.\")\n",
    "    else:\n",
    "        print(\"Great, \" + new_user + \" is still available.\")"
   ]
  },
  {
   "cell_type": "markdown",
   "metadata": {},
   "source": [
    "## 5-11. Ordinal Numbers: Ordinal numbers indicate their position in a list, such as 1st or 2nd . Most ordinal numbers end in th, except 1, 2, and 3 .\n",
    "• Store the numbers 1 through 9 in a list .\n",
    "\n",
    "• Loop through the list .\n",
    "\n",
    "• Use an if-elif-else chain inside the loop to print the proper ordinal ending for each number . \n",
    "\n",
    "Your output should read \"1st 2nd 3rd 4th 5th 6th 7th 8th 9th\", and each result should be on a separate line ."
   ]
  },
  {
   "cell_type": "code",
   "execution_count": null,
   "metadata": {
    "collapsed": true
   },
   "outputs": [],
   "source": [
    "num=list(range(1,10))\n",
    "\n",
    "for n in num:\n",
    "    if n==1:\n",
    "        print (\"1st\")\n",
    "    elif n==2:\n",
    "        print(\"2nd\")\n",
    "    elif n==3:\n",
    "        print(\"3rd\")\n",
    "    else:\n",
    "        print(str(n)+\"th\")"
   ]
  },
  {
   "cell_type": "markdown",
   "metadata": {},
   "source": [
    "## 5-12. Styling if statements: Review the programs you wrote in this chapter, and make sure you styled your conditional tests appropriately .\n"
   ]
  },
  {
   "cell_type": "code",
   "execution_count": null,
   "metadata": {
    "collapsed": true
   },
   "outputs": [],
   "source": [
    "age >= 2 and age <= 21 # I used space around the comparison operators "
   ]
  },
  {
   "cell_type": "markdown",
   "metadata": {},
   "source": [
    "## 5-13. Your Ideas: At this point, you’re a more capable programmer than you were when you started this book . Now that you have a better sense of how real-world situations are modeled in programs, you might be thinking of some problems you could solve with your own programs . Record any new ideas you have about problems you might want to solve as your programming skills continue to improve . Consider games you might want to write, data sets you might want to explore, and web applications you’d like to create ."
   ]
  },
  {
   "cell_type": "markdown",
   "metadata": {},
   "source": [
    "###  Ans- I would like to explore datasets and find useful insights from it"
   ]
  },
  {
   "cell_type": "markdown",
   "metadata": {},
   "source": [
    "## 6-1. Person: Use a dictionary to store information about a person you know . Store their first name, last name, age, and the city in which they live . You should have keys such as first_name, last_name, age, and city . Print each piece of information stored in your dictionary."
   ]
  },
  {
   "cell_type": "code",
   "execution_count": null,
   "metadata": {
    "collapsed": true
   },
   "outputs": [],
   "source": [
    "person = {'first_name': 'Stewie','last_name': 'Griffin','age': 3,'city': 'Quahog'}\n",
    "\n",
    "print(person['first_name'])\n",
    "print(person['last_name'])\n",
    "print(person['age'])\n",
    "print(person['city'])"
   ]
  },
  {
   "cell_type": "markdown",
   "metadata": {},
   "source": [
    "## 6-2. Favorite Numbers: Use a dictionary to store people’s favorite numbers . Think of five names, and use them as keys in your dictionary . Think of a favorite number for each person, and store each as a value in your dictionary . Print each person’s name and their favorite number . For even more fun, poll a few friends and get some actual data for your program ."
   ]
  },
  {
   "cell_type": "code",
   "execution_count": null,
   "metadata": {
    "collapsed": true,
    "scrolled": true
   },
   "outputs": [],
   "source": [
    "favorite_numbers = {\n",
    "    'Harsh': 99,\n",
    "    'Nawab': 56,\n",
    "    'Lily': 6,\n",
    "    'Om': 9,\n",
    "    'Saurabh': 7,\n",
    "    }\n",
    "\n",
    "for name, nos in favorite_numbers.items():\n",
    "    print(\"\\n Favorite number of \" + name +\" is \" + str(nos))\n",
    "    \n"
   ]
  },
  {
   "cell_type": "markdown",
   "metadata": {},
   "source": [
    "## 6-3. Glossary: A Python dictionary can be used to model an actual dictionary . However, to avoid confusion, let’s call it a glossary .\n",
    "• Think of five programming words you’ve learned about in the previous chapters . Use these words as the keys in your glossary, and store their meanings as values .\n",
    "\n",
    "• Print each word and its meaning as neatly formatted output . You might print the word followed by a colon and then its meaning, or print the word on one line and then print its meaning indented on a second line . Use the newline character (\\n) to insert a blank line between each word-meaning pair in your output ."
   ]
  },
  {
   "cell_type": "code",
   "execution_count": null,
   "metadata": {
    "collapsed": true
   },
   "outputs": [],
   "source": [
    "glossary={\n",
    "    \"List\":\"A list is a collection of items in a particular order\",\n",
    "    \"Dictonary\" : \"A collection of key-value pairs\",\n",
    "    \"Loop\": \"Work through a collection of items, one at a time\",\n",
    "    \"Range\" : \"Return an object that produces a sequence of integers from start\",\n",
    "    \"Sorted\" : \"Return a new list containing all items from the iterable in ascending order\"\n",
    "}\n",
    "\n",
    "print(\"\\n List\" +\" : \"+ glossary[\"List\"])\n",
    "print(\"\\n Dictonary\" +\" : \"+ glossary[\"Dictonary\"])\n",
    "print(\"\\n Loop\" +\" : \"+ glossary[\"Loop\"])\n",
    "print(\"\\n Range\" +\" : \"+ glossary[\"Range\"])\n",
    "print(\"\\n Sorted\" +\" : \"+ glossary[\"Sorted\"])"
   ]
  },
  {
   "cell_type": "markdown",
   "metadata": {},
   "source": [
    "## 6-4. Glossary 2: Now that you know how to loop through a dictionary, clean up the code from Exercise 6-3 (page 102) by replacing your series of print statements with a loop that runs through the dictionary’s keys and values . When you’re sure that your loop works, add five more Python terms to your glossary . When you run your program again, these new words and meanings should automatically be included in the output ."
   ]
  },
  {
   "cell_type": "code",
   "execution_count": null,
   "metadata": {
    "collapsed": true
   },
   "outputs": [],
   "source": [
    "glossary={\n",
    "    'List':'A list is a collection of items in a particular order',\n",
    "    'Dictonary' : 'A collection of key-value pairs',\n",
    "    'Loop': 'Work through a collection of items, one at a time',\n",
    "    'Range' :'Return an object that produces a sequence of integers from start',\n",
    "    'Sorted' :'Return a new list containing all items from the iterable in ascending order',\n",
    "    'Key': 'The first item in a key-value pair in a dictionary',\n",
    "    'Print' : 'Prints the values to a stream ',\n",
    "    'Reversed': 'reverse iterator over values of the sequence',\n",
    "    'Float': 'A numerical value with a decimal component',\n",
    "    'String': 'A series of characters.'\n",
    "}\n",
    "\n",
    "for key, val in glossary.items():\n",
    "    print(\"\\n\" + key + \": \" + val)"
   ]
  },
  {
   "cell_type": "markdown",
   "metadata": {},
   "source": [
    "## 6-5. Rivers: Make a dictionary containing three major rivers and the country each river runs through . One key-value pair might be 'nile': 'egypt' .\n",
    "• Use a loop to print a sentence about each river, such as The Nile runs through Egypt .\n",
    "\n",
    "• Use a loop to print the name of each river included in the dictionary .\n",
    "\n",
    "• Use a loop to print the name of each country included in the dictionary ."
   ]
  },
  {
   "cell_type": "code",
   "execution_count": null,
   "metadata": {
    "collapsed": true
   },
   "outputs": [],
   "source": [
    "rivers = {\n",
    "    'nile': 'egypt',\n",
    "    'thames': 'uk',\n",
    "    'ganga': 'india',\n",
    "    }\n",
    "\n",
    "for r, c in rivers.items():\n",
    "    print(\"The \" + r + \" flows through \" + c )"
   ]
  },
  {
   "cell_type": "code",
   "execution_count": null,
   "metadata": {
    "collapsed": true
   },
   "outputs": [],
   "source": [
    "for r in rivers.keys():\n",
    "    print(\"- \" + r)"
   ]
  },
  {
   "cell_type": "code",
   "execution_count": null,
   "metadata": {
    "collapsed": true
   },
   "outputs": [],
   "source": [
    "for c in rivers.values():\n",
    "    print(\"- \" + c)"
   ]
  },
  {
   "cell_type": "markdown",
   "metadata": {},
   "source": [
    "## 6-6. Polling: Use the code in favorite_languages.py (page 104) .\n",
    "• Make a list of people who should take the favorite languages poll . Include\n",
    "some names that are already in the dictionary and some that are not .\n",
    "\n",
    "• Loop through the list of people who should take the poll . If they have already taken the poll, print a message thanking them for responding . If they have not yet taken the poll, print a message inviting them to take the poll ."
   ]
  },
  {
   "cell_type": "code",
   "execution_count": null,
   "metadata": {
    "collapsed": true
   },
   "outputs": [],
   "source": [
    "favorite_languages = {\n",
    "    'jen': 'python',\n",
    "    'sarah': 'c',\n",
    "    'edward': 'ruby',\n",
    "    'phil': 'python',\n",
    "    }\n",
    "votes = ['sam', 'phil', 'jen', 'andres', 'xu', 'mary', 'tom']\n",
    "for p in votes:\n",
    "    if p in favorite_languages.keys():\n",
    "        print(\"Thanks for voting, \" + p.title())\n",
    "    else:\n",
    "        print(p.title() + \", vote for your favorite programming language?\")"
   ]
  },
  {
   "cell_type": "markdown",
   "metadata": {},
   "source": [
    "\n",
    "## 6-7. People: Start with the program you wrote for Exercise 6-1 (page 102) . Make two new dictionaries representing different people, and store all three dictionaries in a list called people. Loop through your list of people . As you loop through the list, print everything you know about each person ."
   ]
  },
  {
   "cell_type": "code",
   "execution_count": null,
   "metadata": {
    "collapsed": true
   },
   "outputs": [],
   "source": [
    "all=[]\n",
    "\n",
    "person = {\n",
    "    'first_name': 'Stewie',\n",
    "    'last_name': 'Griffin',\n",
    "    'age': 3,'city': 'Quahog'}\n",
    "all.append(person)\n",
    "\n",
    "person = {\n",
    "    'first_name': 'Peter',\n",
    "    'last_name': 'Griffin',\n",
    "    'age': 40,\n",
    "    'city': 'Quohog',\n",
    "    }\n",
    "all.append(person)\n",
    "\n",
    "person = {\n",
    "    'first_name': 'Brain',\n",
    "    'last_name': 'Quinn',\n",
    "    'age': 45,\n",
    "    'city': 'Staten Islands',\n",
    "    }\n",
    "all.append(person)"
   ]
  },
  {
   "cell_type": "code",
   "execution_count": null,
   "metadata": {
    "collapsed": true
   },
   "outputs": [],
   "source": [
    "for p in all:\n",
    "    name = p['first_name'].title() + \" \" + p['last_name'].title()\n",
    "    age = str(p['age'])\n",
    "    city = p['city'].title()\n",
    "    print(name + \", of \" + city + \", is \" + age + \" years old.\")"
   ]
  },
  {
   "cell_type": "markdown",
   "metadata": {},
   "source": [
    "## 6-8. Pets: Make several dictionaries, where the name of each dictionary is the name of a pet . In each dictionary, include the kind of animal and the owner’s name . Store these dictionaries in a list called pets . Next, loop through your list and as you do print everything you know about each pet .\n",
    "\n"
   ]
  },
  {
   "cell_type": "code",
   "execution_count": null,
   "metadata": {
    "collapsed": true
   },
   "outputs": [],
   "source": [
    "all_pets = []\n",
    "\n",
    "# Make individual pets, and store each one in the list.\n",
    "pet = {\n",
    "    'animal ': 'dog',\n",
    "    'pet name': 'rambo',\n",
    "    'owner': 'saurabh',\n",
    "}\n",
    "all_pets.append(pet)\n",
    "\n",
    "pet = {\n",
    "    'animal ': 'dog',\n",
    "    'pet name': 'tyson',\n",
    "    'owner': 'samir',\n",
    "}\n",
    "all_pets.append(pet)\n",
    "\n",
    "pet = {\n",
    "    'animal ': 'dog',\n",
    "    'pet name': 'moti',\n",
    "    'owner': 'winny',\n",
    "}\n",
    "all_pets.append(pet)\n",
    "\n",
    "# Display information about each pet.\n",
    "for pet in all_pets:\n",
    "    print(\"\\nPet Info about \" + pet['pet name'].title() + \":\")\n",
    "    for key, value in pet.items():\n",
    "        print(\"\\t\" + key + \": \" + str(value))"
   ]
  },
  {
   "cell_type": "markdown",
   "metadata": {},
   "source": [
    "## 6-9. Favorite Places: Make a dictionary called favorite_places . Think of three names to use as keys in the dictionary, and store one to three favorite places for each person . To make this exercise a bit more interesting, ask some friends to name a few of their favorite places . Loop through the dictionary, and print each person’s name and their favorite places ."
   ]
  },
  {
   "cell_type": "code",
   "execution_count": null,
   "metadata": {
    "collapsed": true
   },
   "outputs": [],
   "source": [
    "favorite_places = {\n",
    "    'saurabh': ['goa', 'shimla', 'boston'],\n",
    "    'sam': ['LA'],\n",
    "    'phil': ['San Jose', 'London']\n",
    "    }\n",
    "\n",
    "for name, places in favorite_places.items():\n",
    "    print(\"\\n\" + \" Favorite places of \"+ name.title()+ \" are\")\n",
    "    for place in places:\n",
    "        print(\"- \" + place.title())"
   ]
  },
  {
   "cell_type": "markdown",
   "metadata": {},
   "source": [
    "## 6-10. Favorite Numbers: Modify your program from Exercise 6-2 (page 102) so each person can have more than one favorite number . Then print each person’s name along with their favorite numbers .\n"
   ]
  },
  {
   "cell_type": "code",
   "execution_count": null,
   "metadata": {
    "collapsed": true,
    "scrolled": true
   },
   "outputs": [],
   "source": [
    "favorite_numbers = {\n",
    "    'Harsh': [99, 77],\n",
    "    'Nawab': [56,37],\n",
    "    'Saurabh': [7,9],\n",
    "    }\n",
    "\n",
    "for name, numbers in favorite_numbers.items():\n",
    "    print(\"\\n\" + name + \"'s \" +\"favorite numbers are as follows\")\n",
    "    for number in numbers:\n",
    "        print(\"  \" + str(number))"
   ]
  },
  {
   "cell_type": "code",
   "execution_count": null,
   "metadata": {
    "collapsed": true,
    "scrolled": true
   },
   "outputs": [],
   "source": []
  },
  {
   "cell_type": "markdown",
   "metadata": {},
   "source": [
    "## 6-11. Cities: Make a dictionary called cities . Use the names of three cities as keys in your dictionary . Create a dictionary of information about each city and include the country that the city is in, its approximate population, and one fact about that city . The keys for each city’s dictionary should be something like country, population, and fact . Print the name of each city and all of the information you have stored about it ."
   ]
  },
  {
   "cell_type": "code",
   "execution_count": null,
   "metadata": {
    "collapsed": true
   },
   "outputs": [],
   "source": [
    "cities = {\n",
    "    'LA': {\n",
    "        'country': 'USA',\n",
    "        'population': 3000000,\n",
    "        'fact': 'People visit for casinos',\n",
    "        },\n",
    "    'Boston': {\n",
    "        'country': 'USA',\n",
    "        'population': 300500,\n",
    "        'fact': 'Snows in December',\n",
    "        },\n",
    "    'Nagpur': {\n",
    "        'country': 'India',\n",
    "        'population': 3050444,\n",
    "        'fact': 'Called Orange City',\n",
    "        }\n",
    "    }\n",
    "\n",
    "for city, info in cities.items():\n",
    "    country = info['country']\n",
    "    population = info['population']\n",
    "    fact = info['fact']\n",
    "\n",
    "    print(\"\\n\" + city.title() + \" is in \" + country )\n",
    "    print(\"  The population is \" + str(population) )\n",
    "    print(\"  Fact: \" + fact )"
   ]
  },
  {
   "cell_type": "markdown",
   "metadata": {},
   "source": [
    "## 6-12. Extensions: We’re now working with examples that are complex enough that they can be extended in any number of ways . Use one of the example programs from this chapter, and extend it by adding new keys and values, changing the context of the program or improving the formatting of the output ."
   ]
  },
  {
   "cell_type": "code",
   "execution_count": null,
   "metadata": {
    "collapsed": true
   },
   "outputs": [],
   "source": [
    "favorite_numbers = {\n",
    "    'Harsh': [99, 77],\n",
    "    'Nawab': [56,37],\n",
    "    'Saurabh': [7,9],\n",
    "    }\n",
    "favorite_numbers.update({'Sam':[2,89]})\n",
    "\n",
    "for name, numbers in favorite_numbers.items():\n",
    "    print(\"\\n\" + name + \"'s \" +\"favorite numbers are as follows\")\n",
    "    for number in numbers:\n",
    "        print(\"  \" + str(number))\n"
   ]
  }
 ],
 "metadata": {
  "kernelspec": {
   "display_name": "Python 3",
   "language": "python",
   "name": "python3"
  },
  "language_info": {
   "codemirror_mode": {
    "name": "ipython",
    "version": 3
   },
   "file_extension": ".py",
   "mimetype": "text/x-python",
   "name": "python",
   "nbconvert_exporter": "python",
   "pygments_lexer": "ipython3",
   "version": "3.5.4"
  }
 },
 "nbformat": 4,
 "nbformat_minor": 2
}
